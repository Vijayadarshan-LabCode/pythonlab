{
 "cells": [
  {
   "cell_type": "code",
   "execution_count": 1,
   "id": "aaed9967-671a-42b4-bfaa-2eab2f0ee5d4",
   "metadata": {},
   "outputs": [
    {
     "name": "stdout",
     "output_type": "stream",
     "text": [
      "Python 3.13.5\n"
     ]
    }
   ],
   "source": [
    "!python --version"
   ]
  },
  {
   "cell_type": "code",
   "execution_count": 10,
   "id": "4cb5cb48-495e-4942-b565-8839b9bb18f3",
   "metadata": {},
   "outputs": [
    {
     "name": "stdout",
     "output_type": "stream",
     "text": [
      "1\n",
      "2\n",
      "3\n",
      "4\n",
      "5\n",
      "6\n",
      "7\n",
      "outside\n"
     ]
    }
   ],
   "source": [
    "a=1\n",
    "b=8\n",
    "while a<b:\n",
    "    print(a)\n",
    "    a=a+1\n",
    "print(\"outside\")   "
   ]
  },
  {
   "cell_type": "code",
   "execution_count": 11,
   "id": "74e835c7-855e-4f7c-b2f7-85b50161c954",
   "metadata": {},
   "outputs": [
    {
     "name": "stdout",
     "output_type": "stream",
     "text": [
      "Reddy\n"
     ]
    }
   ],
   "source": [
    "response={1:\"Vijay\", 2:\"Reddy\", 3: \"algari\"}\n",
    "print(response[2])"
   ]
  },
  {
   "cell_type": "code",
   "execution_count": 20,
   "id": "026f4c9a-0777-4a75-b46c-954fff1e129d",
   "metadata": {},
   "outputs": [
    {
     "name": "stdout",
     "output_type": "stream",
     "text": [
      "{1: 'aws', 2: 'GCP'}\n"
     ]
    }
   ],
   "source": [
    "resp={1:\"Azure\",2:{1:\"aws\",2:\"GCP\"}}\n",
    "print(resp[2])"
   ]
  },
  {
   "cell_type": "code",
   "execution_count": 21,
   "id": "5e8c678a-3a9f-48af-b5c7-6f9e57e7d092",
   "metadata": {},
   "outputs": [],
   "source": [
    "resp={1:'python',2:{'books':'arch', 'aws':'lambda'}}"
   ]
  },
  {
   "cell_type": "code",
   "execution_count": 22,
   "id": "5dc8d7c8-dd94-42f7-aae3-ea435a7c2dfe",
   "metadata": {},
   "outputs": [
    {
     "name": "stdout",
     "output_type": "stream",
     "text": [
      "{'books': 'arch', 'aws': 'lambda'}\n"
     ]
    }
   ],
   "source": [
    "print(resp[2])"
   ]
  },
  {
   "cell_type": "code",
   "execution_count": 23,
   "id": "f81c20d5-da61-4ca9-8cc9-e7ae84ebba2c",
   "metadata": {},
   "outputs": [
    {
     "name": "stdout",
     "output_type": "stream",
     "text": [
      "[1, 'vijay', 3.5]\n"
     ]
    }
   ],
   "source": [
    "resp1={1:'go',2:[1,'vijay',3.5]}\n",
    "print(resp1[2])"
   ]
  },
  {
   "cell_type": "code",
   "execution_count": 32,
   "id": "0619b959-10e6-4fb1-8131-0d12572df5ed",
   "metadata": {},
   "outputs": [
    {
     "name": "stdout",
     "output_type": "stream",
     "text": [
      "[{'name': 'bucket1', 'creation date': 25}]\n",
      "{'displayname': 'reddy', 'creation': 26}\n"
     ]
    }
   ],
   "source": [
    "response1={'Buckets':[{'name':'bucket1', 'creation date':25}],'owner':{'displayname':'reddy', 'creation':26}}\n",
    "print(response1['Buckets'])\n",
    "print(response1['owner'])"
   ]
  },
  {
   "cell_type": "code",
   "execution_count": null,
   "id": "e5fac6b4-b583-4fbc-9942-25a12e7b4997",
   "metadata": {},
   "outputs": [],
   "source": []
  }
 ],
 "metadata": {
  "kernelspec": {
   "display_name": "Python [conda env:base] *",
   "language": "python",
   "name": "conda-base-py"
  },
  "language_info": {
   "codemirror_mode": {
    "name": "ipython",
    "version": 3
   },
   "file_extension": ".py",
   "mimetype": "text/x-python",
   "name": "python",
   "nbconvert_exporter": "python",
   "pygments_lexer": "ipython3",
   "version": "3.13.5"
  }
 },
 "nbformat": 4,
 "nbformat_minor": 5
}
